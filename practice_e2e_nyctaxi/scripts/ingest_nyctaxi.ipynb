{
 "cells": [
  {
   "cell_type": "code",
   "execution_count": null,
   "id": "5ae52b10-5124-4be6-bf83-4d03faa6d261",
   "metadata": {},
   "outputs": [],
   "source": [
    "# !pip install pandas google-cloud-storage"
   ]
  },
  {
   "cell_type": "code",
   "execution_count": 22,
   "id": "16ec0f21-9892-4d78-8fec-55901202f48a",
   "metadata": {},
   "outputs": [],
   "source": [
    "import requests\n",
    "# import pandas as pd\n",
    "# import pyarrow.parquet as pq\n",
    "from google.cloud import storage\n",
    "import os"
   ]
  },
  {
   "cell_type": "code",
   "execution_count": 28,
   "id": "598109a4-d518-416f-afdf-5818bef13b86",
   "metadata": {},
   "outputs": [],
   "source": [
    "# https://d37ci6vzurychx.cloudfront.net/trip-data/yellow_tripdata_2023-01.parquet\n",
    "URL_PREFIX = \"https://d37ci6vzurychx.cloudfront.net/trip-data/\"\n",
    "DATALAKE_BUCKET = \"romadv-nyc-taxi1-datalake\"\n",
    "\n",
    "def upload_to_gcs(bucket_name, object_name, file):\n",
    "    \"\"\"\n",
    "    Ref: https://cloud.google.com/storage/docs/uploading-objects#storage-upload-object-python\n",
    "    \"\"\"\n",
    "    # # WORKAROUND to prevent timeout for files > 6 MB on 800 kbps upload speed.\n",
    "    # # (Ref: https://github.com/googleapis/python-storage/issues/74)\n",
    "    storage.blob._MAX_MULTIPART_SIZE = 5 * 1024 * 1024  # 5 MB\n",
    "    storage.blob._DEFAULT_CHUNKSIZE = 5 * 1024 * 1024  # 5 MB\n",
    "\n",
    "    client = storage.Client()\n",
    "    bucket = client.bucket(bucket_name)\n",
    "    blob = bucket.blob(object_name)\n",
    "\n",
    "    try:\n",
    "      blob.upload_from_filename(file)\n",
    "      print(f\"Uploaded {bucket_name}/{object_name}\")\n",
    "      \n",
    "    except Exception as e:\n",
    "      print(f\"Failed to upload {bucket_name}/{object_name}\")\n",
    "      raise e\n",
    "\n",
    "def extract_load_to_gcs(year_month, service):\n",
    "    filename = f\"{service}_tripdata_{year_month}.parquet\"\n",
    "    request_url = f\"{URL_PREFIX}{filename}\"\n",
    "\n",
    "    try:\n",
    "        response = requests.get(request_url)\n",
    "        open(filename, 'wb').write(response.content)\n",
    "        print(f\"Local: {filename}\")\n",
    "        \n",
    "    except Exception as e:\n",
    "        print(f\"Failed to download {request_url}\")\n",
    "        raise e\n",
    "\n",
    "    upload_to_gcs(DATALAKE_BUCKET, f\"{service}/landing/{filename}\", filename)"
   ]
  },
  {
   "cell_type": "code",
   "execution_count": 27,
   "id": "59459239-00be-45c4-a278-2755bfe3668a",
   "metadata": {},
   "outputs": [
    {
     "name": "stdout",
     "output_type": "stream",
     "text": [
      "Uploaded <Bucket: romadv-nyc-taxi1-datalake>/yellow/yellow_tripdata_2023-01.parquet\n"
     ]
    }
   ],
   "source": [
    "extract_load_to_gcs(\"2023-01\", \"yellow\")"
   ]
  },
  {
   "cell_type": "code",
   "execution_count": 23,
   "id": "2e9bc768-ba68-4cf8-a2a6-2f3b162803ea",
   "metadata": {},
   "outputs": [
    {
     "data": {
      "text/plain": [
       "'~/.google/credentials/romadv-nyc-taxi1-tf-runner-5e1b9995dfdc.json'"
      ]
     },
     "execution_count": 23,
     "metadata": {},
     "output_type": "execute_result"
    }
   ],
   "source": [
    "os.environ.get(\"GOOGLE_APPLICATION_CREDENTIALS\", \"~/.google/credentials/romadv-nyc-taxi1-tf-runner-5e1b9995dfdc.json\")"
   ]
  },
  {
   "cell_type": "code",
   "execution_count": 30,
   "id": "fa8b441b-af56-42c5-b3ef-ab94b026cfa3",
   "metadata": {},
   "outputs": [
    {
     "name": "stdout",
     "output_type": "stream",
     "text": [
      "[NbConvertApp] Converting notebook ingest_nyctaxi.ipynb to python\n",
      "[NbConvertApp] Writing 2213 bytes to ingest_nyctaxi.py\n"
     ]
    }
   ],
   "source": [
    "!jupyter nbconvert --to python ingest_nyctaxi.ipynb"
   ]
  },
  {
   "cell_type": "code",
   "execution_count": null,
   "id": "973143cd-d6d2-4222-8680-e58735531410",
   "metadata": {},
   "outputs": [],
   "source": []
  }
 ],
 "metadata": {
  "kernelspec": {
   "display_name": "Python 3 (ipykernel)",
   "language": "python",
   "name": "python3"
  },
  "language_info": {
   "codemirror_mode": {
    "name": "ipython",
    "version": 3
   },
   "file_extension": ".py",
   "mimetype": "text/x-python",
   "name": "python",
   "nbconvert_exporter": "python",
   "pygments_lexer": "ipython3",
   "version": "3.13.5"
  }
 },
 "nbformat": 4,
 "nbformat_minor": 5
}

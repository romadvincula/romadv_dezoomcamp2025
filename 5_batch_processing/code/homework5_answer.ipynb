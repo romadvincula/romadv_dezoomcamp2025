{
 "cells": [
  {
   "cell_type": "markdown",
   "id": "5d805c7b-2ea9-495a-9539-7f3643ae078c",
   "metadata": {},
   "source": [
    "# Question 1: Install Spark and PySpark\n",
    "\n",
    "    Install Spark\n",
    "    Run PySpark\n",
    "    Create a local spark session\n",
    "    Execute spark.version.\n",
    "\n",
    "What's the output?"
   ]
  },
  {
   "cell_type": "code",
   "execution_count": 2,
   "id": "87725460-78fa-48f3-8974-d480b4b44060",
   "metadata": {},
   "outputs": [
    {
     "name": "stderr",
     "output_type": "stream",
     "text": [
      "WARNING: Using incubator modules: jdk.incubator.vector\n",
      "Using Spark's default log4j profile: org/apache/spark/log4j2-defaults.properties\n",
      "Setting default log level to \"WARN\".\n",
      "To adjust logging level use sc.setLogLevel(newLevel). For SparkR, use setLogLevel(newLevel).\n",
      "25/07/06 20:37:39 WARN NativeCodeLoader: Unable to load native-hadoop library for your platform... using builtin-java classes where applicable\n"
     ]
    }
   ],
   "source": [
    "import pyspark\n",
    "from pyspark.sql import SparkSession\n",
    "\n",
    "spark = SparkSession.builder \\\n",
    "    .master(\"local[*]\") \\\n",
    "    .appName('test') \\\n",
    "    .getOrCreate()"
   ]
  },
  {
   "cell_type": "code",
   "execution_count": 3,
   "id": "ef0a720e-5682-4a34-9777-8fa62b2f64cc",
   "metadata": {},
   "outputs": [
    {
     "data": {
      "text/plain": [
       "'4.0.0'"
      ]
     },
     "execution_count": 3,
     "metadata": {},
     "output_type": "execute_result"
    }
   ],
   "source": [
    "spark.version"
   ]
  },
  {
   "cell_type": "markdown",
   "id": "2e8949d4-a7b3-4991-9ba6-5952b9d650b3",
   "metadata": {},
   "source": [
    "Answer: 4.0.0"
   ]
  },
  {
   "cell_type": "markdown",
   "id": "09f30bf5-705c-474c-abc6-0c0d328ee235",
   "metadata": {},
   "source": [
    "# Question 2: Yellow October 2024\n",
    "\n",
    "Read the October 2024 Yellow into a Spark Dataframe.\n",
    "\n",
    "Repartition the Dataframe to 4 partitions and save it to parquet.\n",
    "\n",
    "What is the average size of the Parquet (ending with .parquet extension) Files that were created (in MB)? Select the answer which most closely matches.\n",
    "\n",
    "    6MB\n",
    "    25MB\n",
    "    75MB\n",
    "    100MB\n"
   ]
  },
  {
   "cell_type": "code",
   "execution_count": 4,
   "id": "3a710b46-9af6-4827-ad75-4d844759a7b6",
   "metadata": {},
   "outputs": [
    {
     "name": "stdout",
     "output_type": "stream",
     "text": [
      "--2025-07-06 20:40:03--  https://d37ci6vzurychx.cloudfront.net/trip-data/yellow_tripdata_2024-10.parquet\n",
      "Resolving d37ci6vzurychx.cloudfront.net (d37ci6vzurychx.cloudfront.net)... 2600:9000:234c:fc00:b:20a5:b140:21, 2600:9000:234c:9200:b:20a5:b140:21, 2600:9000:234c:3800:b:20a5:b140:21, ...\n",
      "Connecting to d37ci6vzurychx.cloudfront.net (d37ci6vzurychx.cloudfront.net)|2600:9000:234c:fc00:b:20a5:b140:21|:443... connected.\n",
      "HTTP request sent, awaiting response... 200 OK\n",
      "Length: 64346071 (61M) [binary/octet-stream]\n",
      "Saving to: ‘yellow_tripdata_2024-10.parquet’\n",
      "\n",
      "yellow_tripdata_202 100%[===================>]  61.36M  3.18MB/s    in 21s     \n",
      "\n",
      "2025-07-06 20:40:25 (2.99 MB/s) - ‘yellow_tripdata_2024-10.parquet’ saved [64346071/64346071]\n",
      "\n"
     ]
    }
   ],
   "source": [
    "!wget https://d37ci6vzurychx.cloudfront.net/trip-data/yellow_tripdata_2024-10.parquet"
   ]
  },
  {
   "cell_type": "code",
   "execution_count": 10,
   "id": "271aa811-67ea-4ced-a565-a4104bb6453c",
   "metadata": {},
   "outputs": [],
   "source": [
    "df_yellow_202410 = spark.read \\\n",
    "    .option('header', 'true') \\\n",
    "    .parquet('yellow_tripdata_2024-10.parquet')"
   ]
  },
  {
   "cell_type": "code",
   "execution_count": 11,
   "id": "fb611a8e-2a99-4346-b175-948adbec7b5f",
   "metadata": {},
   "outputs": [
    {
     "name": "stdout",
     "output_type": "stream",
     "text": [
      "root\n",
      " |-- VendorID: integer (nullable = true)\n",
      " |-- tpep_pickup_datetime: timestamp_ntz (nullable = true)\n",
      " |-- tpep_dropoff_datetime: timestamp_ntz (nullable = true)\n",
      " |-- passenger_count: long (nullable = true)\n",
      " |-- trip_distance: double (nullable = true)\n",
      " |-- RatecodeID: long (nullable = true)\n",
      " |-- store_and_fwd_flag: string (nullable = true)\n",
      " |-- PULocationID: integer (nullable = true)\n",
      " |-- DOLocationID: integer (nullable = true)\n",
      " |-- payment_type: long (nullable = true)\n",
      " |-- fare_amount: double (nullable = true)\n",
      " |-- extra: double (nullable = true)\n",
      " |-- mta_tax: double (nullable = true)\n",
      " |-- tip_amount: double (nullable = true)\n",
      " |-- tolls_amount: double (nullable = true)\n",
      " |-- improvement_surcharge: double (nullable = true)\n",
      " |-- total_amount: double (nullable = true)\n",
      " |-- congestion_surcharge: double (nullable = true)\n",
      " |-- Airport_fee: double (nullable = true)\n",
      "\n"
     ]
    }
   ],
   "source": [
    "df_yellow_202410.printSchema()"
   ]
  },
  {
   "cell_type": "code",
   "execution_count": 12,
   "id": "8e53fa7b-0e28-4587-89d4-05eda889e201",
   "metadata": {},
   "outputs": [
    {
     "name": "stderr",
     "output_type": "stream",
     "text": [
      "                                                                                "
     ]
    }
   ],
   "source": [
    "df_yellow_202410.repartition(4) \\\n",
    "    .write.parquet('data/pq/yellow/2024/10/')"
   ]
  },
  {
   "cell_type": "code",
   "execution_count": 13,
   "id": "d10e49f1-f6b9-45a2-b2e3-d5a093b2b5c1",
   "metadata": {},
   "outputs": [
    {
     "name": "stdout",
     "output_type": "stream",
     "text": [
      "total 190472\n",
      "-rw-r--r--@  1 romadv-mac  staff     0B  6 Jul 20:47 _SUCCESS\n",
      "drwxr-xr-x@ 12 romadv-mac  staff   384B  6 Jul 20:47 \u001b[34m.\u001b[m\u001b[m/\n",
      "-rw-r--r--@  1 romadv-mac  staff     8B  6 Jul 20:47 ._SUCCESS.crc\n",
      "drwxr-xr-x@  3 romadv-mac  staff    96B  6 Jul 20:47 \u001b[34m..\u001b[m\u001b[m/\n",
      "-rw-r--r--@  1 romadv-mac  staff   179K  6 Jul 20:47 .part-00000-6d5c2041-dbcb-4e63-8f20-1a3d09b3c245-c000.snappy.parquet.crc\n",
      "-rw-r--r--@  1 romadv-mac  staff   179K  6 Jul 20:47 .part-00001-6d5c2041-dbcb-4e63-8f20-1a3d09b3c245-c000.snappy.parquet.crc\n",
      "-rw-r--r--@  1 romadv-mac  staff   179K  6 Jul 20:47 .part-00002-6d5c2041-dbcb-4e63-8f20-1a3d09b3c245-c000.snappy.parquet.crc\n",
      "-rw-r--r--@  1 romadv-mac  staff   179K  6 Jul 20:47 .part-00003-6d5c2041-dbcb-4e63-8f20-1a3d09b3c245-c000.snappy.parquet.crc\n",
      "-rw-r--r--@  1 romadv-mac  staff    22M  6 Jul 20:47 part-00000-6d5c2041-dbcb-4e63-8f20-1a3d09b3c245-c000.snappy.parquet\n",
      "-rw-r--r--@  1 romadv-mac  staff    22M  6 Jul 20:47 part-00001-6d5c2041-dbcb-4e63-8f20-1a3d09b3c245-c000.snappy.parquet\n",
      "-rw-r--r--@  1 romadv-mac  staff    22M  6 Jul 20:47 part-00002-6d5c2041-dbcb-4e63-8f20-1a3d09b3c245-c000.snappy.parquet\n",
      "-rw-r--r--@  1 romadv-mac  staff    22M  6 Jul 20:47 part-00003-6d5c2041-dbcb-4e63-8f20-1a3d09b3c245-c000.snappy.parquet\n"
     ]
    }
   ],
   "source": [
    "ls -lah data/pq/yellow/2024/10"
   ]
  },
  {
   "cell_type": "markdown",
   "id": "9b738594-11f4-41da-b239-41c882813b8e",
   "metadata": {},
   "source": [
    "Answer: 25MB"
   ]
  },
  {
   "cell_type": "markdown",
   "id": "dad19637-4743-4c06-bb79-2d5059bb7fbf",
   "metadata": {},
   "source": [
    "# Question 3: Count records\n",
    "\n",
    "How many taxi trips were there on the 15th of October?\n",
    "\n",
    "Consider only trips that started on the 15th of October.\n",
    "\n",
    "    85,567\n",
    "    105,567\n",
    "    125,567\n",
    "    145,567\n"
   ]
  },
  {
   "cell_type": "code",
   "execution_count": 18,
   "id": "083707f0-4a43-4237-a3a9-579b7eb69f9c",
   "metadata": {},
   "outputs": [
    {
     "name": "stdout",
     "output_type": "stream",
     "text": [
      "+--------+--------------------+---------------------+---------------+-------------+----------+------------------+------------+------------+------------+-----------+-----+-------+----------+------------+---------------------+------------+--------------------+-----------+\n",
      "|VendorID|tpep_pickup_datetime|tpep_dropoff_datetime|passenger_count|trip_distance|RatecodeID|store_and_fwd_flag|PULocationID|DOLocationID|payment_type|fare_amount|extra|mta_tax|tip_amount|tolls_amount|improvement_surcharge|total_amount|congestion_surcharge|Airport_fee|\n",
      "+--------+--------------------+---------------------+---------------+-------------+----------+------------------+------------+------------+------------+-----------+-----+-------+----------+------------+---------------------+------------+--------------------+-----------+\n",
      "|       2| 2024-10-01 00:30:44|  2024-10-01 00:48:26|              1|          3.0|         1|                 N|         162|         246|           1|       18.4|  1.0|    0.5|       1.5|         0.0|                  1.0|        24.9|                 2.5|        0.0|\n",
      "|       1| 2024-10-01 00:12:20|  2024-10-01 00:25:25|              1|          2.2|         1|                 N|          48|         236|           1|       14.2|  3.5|    0.5|       3.8|         0.0|                  1.0|        23.0|                 2.5|        0.0|\n",
      "|       1| 2024-10-01 00:04:46|  2024-10-01 00:13:52|              1|          2.7|         1|                 N|         142|          24|           1|       13.5|  3.5|    0.5|       3.7|         0.0|                  1.0|        22.2|                 2.5|        0.0|\n",
      "|       1| 2024-10-01 00:12:10|  2024-10-01 00:23:01|              1|          3.1|         1|                 N|         233|          75|           1|       14.2|  3.5|    0.5|       2.0|         0.0|                  1.0|        21.2|                 2.5|        0.0|\n",
      "|       1| 2024-10-01 00:30:22|  2024-10-01 00:30:39|              1|          0.0|         1|                 N|         262|         262|           3|        3.0|  3.5|    0.5|       0.0|         0.0|                  1.0|         8.0|                 2.5|        0.0|\n",
      "+--------+--------------------+---------------------+---------------+-------------+----------+------------------+------------+------------+------------+-----------+-----+-------+----------+------------+---------------------+------------+--------------------+-----------+\n",
      "only showing top 5 rows\n"
     ]
    }
   ],
   "source": [
    "df_yellow_202410.show(5)"
   ]
  },
  {
   "cell_type": "code",
   "execution_count": 15,
   "id": "a0099182-d5c6-4bda-82f8-f522e2aae103",
   "metadata": {},
   "outputs": [],
   "source": [
    "df_yellow_202410.createOrReplaceTempView('trips_data')"
   ]
  },
  {
   "cell_type": "code",
   "execution_count": 17,
   "id": "53220586-81a3-4099-9ffa-fa62437caf6f",
   "metadata": {},
   "outputs": [
    {
     "name": "stdout",
     "output_type": "stream",
     "text": [
      "+--------+\n",
      "|count(1)|\n",
      "+--------+\n",
      "|  128893|\n",
      "+--------+\n",
      "\n"
     ]
    }
   ],
   "source": [
    "spark.sql(\"\"\"\n",
    "SELECT COUNT(*)\n",
    "FROM trips_data\n",
    "WHERE DATE(tpep_pickup_datetime) = '2024-10-15'\n",
    "\"\"\")"
   ]
  },
  {
   "cell_type": "markdown",
   "id": "5198cee8-1816-4e02-95ab-cf9e527af024",
   "metadata": {},
   "source": [
    "Answer: 125,567"
   ]
  },
  {
   "cell_type": "markdown",
   "id": "86401e60-4ec7-45ad-8726-c826b4f02899",
   "metadata": {},
   "source": [
    "# Question 4: Longest trip\n",
    "\n",
    "What is the length of the longest trip in the dataset in hours?\n",
    "\n",
    "    122\n",
    "    142\n",
    "    162\n",
    "    182\n"
   ]
  },
  {
   "cell_type": "code",
   "execution_count": 23,
   "id": "f38eb389-2104-4080-b2a5-c17b7f002bbd",
   "metadata": {},
   "outputs": [
    {
     "name": "stdout",
     "output_type": "stream",
     "text": [
      "+---------------------+\n",
      "|(max(trip_days) * 24)|\n",
      "+---------------------+\n",
      "|                  168|\n",
      "+---------------------+\n",
      "\n"
     ]
    }
   ],
   "source": [
    "spark.sql(\"\"\"\n",
    "WITH t1 AS (\n",
    "SELECT DATE_DIFF(tpep_dropoff_datetime, tpep_pickup_datetime) as trip_days\n",
    "FROM trips_data\n",
    ")\n",
    "SELECT MAX(trip_days) * 24\n",
    "FROM t1\n",
    "\"\"\").show()"
   ]
  },
  {
   "cell_type": "markdown",
   "id": "d3fa074c-579d-4516-98c4-b131b4eb917a",
   "metadata": {},
   "source": [
    "Answer: 162"
   ]
  },
  {
   "cell_type": "markdown",
   "id": "8badaca4-0ab1-496e-ac10-225b7961e58e",
   "metadata": {},
   "source": [
    "# Question 5: User Interface\n",
    "\n",
    "Spark’s User Interface which shows the application's dashboard runs on which local port?\n",
    "\n",
    "    80\n",
    "    443\n",
    "    4040\n",
    "    8080\n"
   ]
  },
  {
   "cell_type": "markdown",
   "id": "0a9c6127-6faf-450d-b746-de81efe7d41a",
   "metadata": {},
   "source": [
    "Answer: 4040"
   ]
  },
  {
   "cell_type": "markdown",
   "id": "0bcde366-fef6-4298-b7bf-c0460fb94409",
   "metadata": {},
   "source": [
    "# Question 6: Least frequent pickup location zone\n",
    "\n",
    "Load the zone lookup data into a temp view in Spark:\n",
    "\n",
    "wget https://d37ci6vzurychx.cloudfront.net/misc/taxi_zone_lookup.csv\n",
    "\n",
    "Using the zone lookup data and the Yellow October 2024 data, what is the name of the LEAST frequent pickup location Zone?\n",
    "\n",
    "    Governor's Island/Ellis Island/Liberty Island\n",
    "    Arden Heights\n",
    "    Rikers Island\n",
    "    Jamaica Bay\n"
   ]
  },
  {
   "cell_type": "code",
   "execution_count": 24,
   "id": "8d568df4-5269-4618-a4a1-cf6fcca0c1db",
   "metadata": {},
   "outputs": [],
   "source": [
    "df_zones = spark.read \\\n",
    "    .option(\"header\", \"true\") \\\n",
    "    .csv('data/lookup/taxi_zone_lookup.csv')"
   ]
  },
  {
   "cell_type": "code",
   "execution_count": 25,
   "id": "bb869012-0d4f-4d67-a2f5-950038f7f96f",
   "metadata": {},
   "outputs": [
    {
     "name": "stdout",
     "output_type": "stream",
     "text": [
      "+----------+-------------+--------------------+------------+\n",
      "|locationid|      borough|                zone|service_zone|\n",
      "+----------+-------------+--------------------+------------+\n",
      "|         1|          EWR|      Newark Airport|         EWR|\n",
      "|         2|       Queens|         Jamaica Bay|   Boro Zone|\n",
      "|         3|        Bronx|Allerton/Pelham G...|   Boro Zone|\n",
      "|         4|    Manhattan|       Alphabet City| Yellow Zone|\n",
      "|         5|Staten Island|       Arden Heights|   Boro Zone|\n",
      "+----------+-------------+--------------------+------------+\n",
      "only showing top 5 rows\n"
     ]
    }
   ],
   "source": [
    "df_zones.show(5)"
   ]
  },
  {
   "cell_type": "code",
   "execution_count": 26,
   "id": "326b7d05-3026-4157-8da2-c686f1ac5ab4",
   "metadata": {},
   "outputs": [],
   "source": [
    "df_zones.createOrReplaceTempView('zones')"
   ]
  },
  {
   "cell_type": "code",
   "execution_count": 30,
   "id": "f527beb7-0f39-417e-813e-adc8434fb024",
   "metadata": {},
   "outputs": [
    {
     "name": "stdout",
     "output_type": "stream",
     "text": [
      "+--------------------+-----------+\n",
      "|                zone|num_pickups|\n",
      "+--------------------+-----------+\n",
      "|Governor's Island...|          1|\n",
      "+--------------------+-----------+\n",
      "\n"
     ]
    }
   ],
   "source": [
    "spark.sql(\"\"\"\n",
    "WITH least AS (\n",
    "    SELECT t.PULocationID\n",
    "    , COUNT(*) AS num_pickups\n",
    "    FROM trips_data t\n",
    "    GROUP BY t.PULocationID\n",
    "    ORDER BY num_pickups ASC\n",
    "    LIMIT 1\n",
    ")\n",
    "SELECT zone, num_pickups\n",
    "FROM least l\n",
    "INNER JOIN zones z ON l.PULocationID = z.locationid\n",
    "\"\"\").show()"
   ]
  },
  {
   "cell_type": "markdown",
   "id": "0ede7e42-5a7f-4f16-9030-d793c8c6057e",
   "metadata": {},
   "source": [
    "Answer: Governor's Island/Ellis Island/Liberty Island"
   ]
  },
  {
   "cell_type": "code",
   "execution_count": 31,
   "id": "022d6ec8-a5c8-4c1d-ac5e-d261ca6f8502",
   "metadata": {},
   "outputs": [],
   "source": [
    "spark.stop()"
   ]
  },
  {
   "cell_type": "code",
   "execution_count": null,
   "id": "3c3b523b-1daf-418a-9e95-06cfab1ab8c4",
   "metadata": {},
   "outputs": [],
   "source": []
  }
 ],
 "metadata": {
  "kernelspec": {
   "display_name": "Python 3 (ipykernel)",
   "language": "python",
   "name": "python3"
  },
  "language_info": {
   "codemirror_mode": {
    "name": "ipython",
    "version": 3
   },
   "file_extension": ".py",
   "mimetype": "text/x-python",
   "name": "python",
   "nbconvert_exporter": "python",
   "pygments_lexer": "ipython3",
   "version": "3.13.5"
  }
 },
 "nbformat": 4,
 "nbformat_minor": 5
}

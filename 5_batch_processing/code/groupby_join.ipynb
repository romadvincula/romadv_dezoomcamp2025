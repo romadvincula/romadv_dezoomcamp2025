{
 "cells": [
  {
   "cell_type": "code",
   "execution_count": 3,
   "id": "13534c53-9ca3-43a1-a6a0-97702596c589",
   "metadata": {},
   "outputs": [
    {
     "name": "stderr",
     "output_type": "stream",
     "text": [
      "WARNING: Using incubator modules: jdk.incubator.vector\n",
      "Using Spark's default log4j profile: org/apache/spark/log4j2-defaults.properties\n",
      "Setting default log level to \"WARN\".\n",
      "To adjust logging level use sc.setLogLevel(newLevel). For SparkR, use setLogLevel(newLevel).\n",
      "25/07/05 21:57:21 WARN NativeCodeLoader: Unable to load native-hadoop library for your platform... using builtin-java classes where applicable\n"
     ]
    }
   ],
   "source": [
    "import pyspark\n",
    "from pyspark.sql import SparkSession\n",
    "\n",
    "# local[*] creates a local spark cluster\n",
    "spark = SparkSession.builder \\\n",
    "    .master(\"local[*]\") \\\n",
    "    .appName('test') \\\n",
    "    .getOrCreate()"
   ]
  },
  {
   "cell_type": "code",
   "execution_count": 4,
   "id": "1dac4177-e3a9-459f-9de7-740402714898",
   "metadata": {},
   "outputs": [],
   "source": [
    "df_green = spark.read \\\n",
    "    .option(\"header\",\"true\") \\\n",
    "    .option(\"recursiveFileLookup\",\"true\") \\\n",
    "    .parquet('data/pq/green')"
   ]
  },
  {
   "cell_type": "code",
   "execution_count": 6,
   "id": "cb2d10bd-79a0-43ce-a84f-46459a406e8f",
   "metadata": {},
   "outputs": [],
   "source": [
    "df_green.createOrReplaceTempView('green')"
   ]
  },
  {
   "cell_type": "code",
   "execution_count": 10,
   "id": "bb452344-0581-47fa-8bf3-34a56bbfd6cb",
   "metadata": {},
   "outputs": [],
   "source": [
    "df_green_revenue = spark.sql(\"\"\"\n",
    "SELECT\n",
    "    date_trunc('hour', lpep_pickup_datetime) as hour,\n",
    "    PULocationId as zone,\n",
    "\n",
    "    SUM(total_amount) AS amount,\n",
    "    COUNT(1) AS number_records\n",
    "FROM\n",
    "    green\n",
    "WHERE\n",
    "    lpep_pickup_datetime >= '2020-01-01 00:00:00'\n",
    "GROUP BY\n",
    "    1, 2\n",
    "ORDER BY\n",
    "    1, 2\n",
    "\"\"\")"
   ]
  },
  {
   "cell_type": "code",
   "execution_count": 11,
   "id": "bce1a111-8ee9-4f48-8c70-217005813864",
   "metadata": {},
   "outputs": [
    {
     "name": "stdout",
     "output_type": "stream",
     "text": [
      "+-------------------+----+------------------+--------------+\n",
      "|               hour|zone|            amount|number_records|\n",
      "+-------------------+----+------------------+--------------+\n",
      "|2020-01-01 00:00:00|   7| 769.7299999999997|            45|\n",
      "|2020-01-01 00:00:00|  17|            195.03|             9|\n",
      "|2020-01-01 00:00:00|  18|               7.8|             1|\n",
      "|2020-01-01 00:00:00|  22|              15.8|             1|\n",
      "|2020-01-01 00:00:00|  24|              87.6|             3|\n",
      "|2020-01-01 00:00:00|  25|             531.0|            26|\n",
      "|2020-01-01 00:00:00|  29|              61.3|             1|\n",
      "|2020-01-01 00:00:00|  32| 68.94999999999999|             2|\n",
      "|2020-01-01 00:00:00|  33|            317.27|            11|\n",
      "|2020-01-01 00:00:00|  35|            129.96|             5|\n",
      "|2020-01-01 00:00:00|  36|            295.34|            11|\n",
      "|2020-01-01 00:00:00|  37|            175.67|             6|\n",
      "|2020-01-01 00:00:00|  38| 98.78999999999999|             2|\n",
      "|2020-01-01 00:00:00|  40|168.98000000000002|             8|\n",
      "|2020-01-01 00:00:00|  41|1363.9599999999987|            84|\n",
      "|2020-01-01 00:00:00|  42| 799.7599999999996|            52|\n",
      "|2020-01-01 00:00:00|  43|            107.52|             6|\n",
      "|2020-01-01 00:00:00|  47|              13.3|             1|\n",
      "|2020-01-01 00:00:00|  49|266.76000000000005|            14|\n",
      "|2020-01-01 00:00:00|  51|              17.8|             2|\n",
      "+-------------------+----+------------------+--------------+\n",
      "only showing top 20 rows\n"
     ]
    }
   ],
   "source": [
    "df_green_revenue.show()"
   ]
  },
  {
   "cell_type": "code",
   "execution_count": 12,
   "id": "1b293145-71b2-40e0-9770-302819e4ac94",
   "metadata": {},
   "outputs": [
    {
     "name": "stderr",
     "output_type": "stream",
     "text": [
      "25/07/05 22:22:15 WARN MemoryManager: Total allocation exceeds 95.00% (1,020,054,720 bytes) of heap memory\n",
      "Scaling row group sizes to 95.00% for 8 writers\n",
      "25/07/05 22:22:15 WARN MemoryManager: Total allocation exceeds 95.00% (1,020,054,720 bytes) of heap memory\n",
      "Scaling row group sizes to 84.44% for 9 writers\n",
      "25/07/05 22:22:15 WARN MemoryManager: Total allocation exceeds 95.00% (1,020,054,720 bytes) of heap memory\n",
      "Scaling row group sizes to 76.00% for 10 writers\n",
      "25/07/05 22:22:15 WARN MemoryManager: Total allocation exceeds 95.00% (1,020,054,720 bytes) of heap memory\n",
      "Scaling row group sizes to 69.09% for 11 writers\n",
      "25/07/05 22:22:15 WARN MemoryManager: Total allocation exceeds 95.00% (1,020,054,720 bytes) of heap memory\n",
      "Scaling row group sizes to 76.00% for 10 writers\n",
      "25/07/05 22:22:15 WARN MemoryManager: Total allocation exceeds 95.00% (1,020,054,720 bytes) of heap memory\n",
      "Scaling row group sizes to 84.44% for 9 writers\n",
      "25/07/05 22:22:15 WARN MemoryManager: Total allocation exceeds 95.00% (1,020,054,720 bytes) of heap memory\n",
      "Scaling row group sizes to 95.00% for 8 writers\n"
     ]
    }
   ],
   "source": [
    "df_green_revenue.write \\\n",
    "    .parquet('data/report/hourly_revenue/green')"
   ]
  },
  {
   "cell_type": "code",
   "execution_count": 19,
   "id": "b945963c-9416-41b5-b43e-9d74c53c3f18",
   "metadata": {},
   "outputs": [
    {
     "name": "stdout",
     "output_type": "stream",
     "text": [
      "total 0\n",
      "drwxr-xr-x@  3 romadv-mac  staff    96B  5 Jul 22:22 \u001b[34m.\u001b[m\u001b[m\n",
      "drwxr-xr-x@  4 romadv-mac  staff   128B  5 Jul 22:22 \u001b[34m..\u001b[m\u001b[m\n",
      "drwxr-xr-x@ 26 romadv-mac  staff   832B  5 Jul 22:22 \u001b[34mgreen\u001b[m\u001b[m\n",
      "\n",
      "data/report/hourly_revenue/green:\n",
      "total 7072\n",
      "-rw-r--r--@  1 romadv-mac  staff     0B  5 Jul 22:22 _SUCCESS\n",
      "drwxr-xr-x@ 26 romadv-mac  staff   832B  5 Jul 22:22 \u001b[34m.\u001b[m\u001b[m\n",
      "-rw-r--r--@  1 romadv-mac  staff     8B  5 Jul 22:22 ._SUCCESS.crc\n",
      "drwxr-xr-x@  3 romadv-mac  staff    96B  5 Jul 22:22 \u001b[34m..\u001b[m\u001b[m\n",
      "-rw-r--r--@  1 romadv-mac  staff   2.7K  5 Jul 22:22 .part-00000-2b0bae84-1431-4698-8dfc-5f18a37dab5a-c000.snappy.parquet.crc\n",
      "-rw-r--r--@  1 romadv-mac  staff   2.6K  5 Jul 22:22 .part-00001-2b0bae84-1431-4698-8dfc-5f18a37dab5a-c000.snappy.parquet.crc\n",
      "-rw-r--r--@  1 romadv-mac  staff   2.6K  5 Jul 22:22 .part-00002-2b0bae84-1431-4698-8dfc-5f18a37dab5a-c000.snappy.parquet.crc\n",
      "-rw-r--r--@  1 romadv-mac  staff   2.2K  5 Jul 22:22 .part-00003-2b0bae84-1431-4698-8dfc-5f18a37dab5a-c000.snappy.parquet.crc\n",
      "-rw-r--r--@  1 romadv-mac  staff   2.2K  5 Jul 22:22 .part-00004-2b0bae84-1431-4698-8dfc-5f18a37dab5a-c000.snappy.parquet.crc\n",
      "-rw-r--r--@  1 romadv-mac  staff   2.2K  5 Jul 22:22 .part-00005-2b0bae84-1431-4698-8dfc-5f18a37dab5a-c000.snappy.parquet.crc\n",
      "-rw-r--r--@  1 romadv-mac  staff   2.2K  5 Jul 22:22 .part-00006-2b0bae84-1431-4698-8dfc-5f18a37dab5a-c000.snappy.parquet.crc\n",
      "-rw-r--r--@  1 romadv-mac  staff   2.2K  5 Jul 22:22 .part-00007-2b0bae84-1431-4698-8dfc-5f18a37dab5a-c000.snappy.parquet.crc\n",
      "-rw-r--r--@  1 romadv-mac  staff   2.2K  5 Jul 22:22 .part-00008-2b0bae84-1431-4698-8dfc-5f18a37dab5a-c000.snappy.parquet.crc\n",
      "-rw-r--r--@  1 romadv-mac  staff   2.2K  5 Jul 22:22 .part-00009-2b0bae84-1431-4698-8dfc-5f18a37dab5a-c000.snappy.parquet.crc\n",
      "-rw-r--r--@  1 romadv-mac  staff   3.8K  5 Jul 22:22 .part-00010-2b0bae84-1431-4698-8dfc-5f18a37dab5a-c000.snappy.parquet.crc\n",
      "-rw-r--r--@  1 romadv-mac  staff   339K  5 Jul 22:22 part-00000-2b0bae84-1431-4698-8dfc-5f18a37dab5a-c000.snappy.parquet\n",
      "-rw-r--r--@  1 romadv-mac  staff   337K  5 Jul 22:22 part-00001-2b0bae84-1431-4698-8dfc-5f18a37dab5a-c000.snappy.parquet\n",
      "-rw-r--r--@  1 romadv-mac  staff   334K  5 Jul 22:22 part-00002-2b0bae84-1431-4698-8dfc-5f18a37dab5a-c000.snappy.parquet\n",
      "-rw-r--r--@  1 romadv-mac  staff   279K  5 Jul 22:22 part-00003-2b0bae84-1431-4698-8dfc-5f18a37dab5a-c000.snappy.parquet\n",
      "-rw-r--r--@  1 romadv-mac  staff   276K  5 Jul 22:22 part-00004-2b0bae84-1431-4698-8dfc-5f18a37dab5a-c000.snappy.parquet\n",
      "-rw-r--r--@  1 romadv-mac  staff   281K  5 Jul 22:22 part-00005-2b0bae84-1431-4698-8dfc-5f18a37dab5a-c000.snappy.parquet\n",
      "-rw-r--r--@  1 romadv-mac  staff   281K  5 Jul 22:22 part-00006-2b0bae84-1431-4698-8dfc-5f18a37dab5a-c000.snappy.parquet\n",
      "-rw-r--r--@  1 romadv-mac  staff   281K  5 Jul 22:22 part-00007-2b0bae84-1431-4698-8dfc-5f18a37dab5a-c000.snappy.parquet\n",
      "-rw-r--r--@  1 romadv-mac  staff   279K  5 Jul 22:22 part-00008-2b0bae84-1431-4698-8dfc-5f18a37dab5a-c000.snappy.parquet\n",
      "-rw-r--r--@  1 romadv-mac  staff   285K  5 Jul 22:22 part-00009-2b0bae84-1431-4698-8dfc-5f18a37dab5a-c000.snappy.parquet\n",
      "-rw-r--r--@  1 romadv-mac  staff   491K  5 Jul 22:22 part-00010-2b0bae84-1431-4698-8dfc-5f18a37dab5a-c000.snappy.parquet\n"
     ]
    }
   ],
   "source": [
    "!ls -lahR data/report/hourly_revenue"
   ]
  },
  {
   "cell_type": "code",
   "execution_count": 20,
   "id": "5da4c196-5b1d-4ddb-af8a-d52d2474efd7",
   "metadata": {},
   "outputs": [
    {
     "name": "stderr",
     "output_type": "stream",
     "text": [
      "[Stage 16:==============>                                         (4 + 11) / 15]"
     ]
    },
    {
     "name": "stdout",
     "output_type": "stream",
     "text": [
      "+-------------------+----+------------------+--------------+\n",
      "|               hour|zone|            amount|number_records|\n",
      "+-------------------+----+------------------+--------------+\n",
      "|2020-01-01 00:00:00|   3|              25.0|             1|\n",
      "|2020-01-01 00:00:00|   4|1004.3000000000003|            57|\n",
      "|2020-01-01 00:00:00|   7| 455.1700000000001|            38|\n",
      "|2020-01-01 00:00:00|  10|             42.41|             2|\n",
      "|2020-01-01 00:00:00|  12|             107.0|             6|\n",
      "|2020-01-01 00:00:00|  13|1214.7999999999997|            56|\n",
      "|2020-01-01 00:00:00|  14|               8.8|             1|\n",
      "|2020-01-01 00:00:00|  15|             34.09|             1|\n",
      "|2020-01-01 00:00:00|  17|220.20999999999998|             8|\n",
      "|2020-01-01 00:00:00|  18|               5.8|             1|\n",
      "|2020-01-01 00:00:00|  24| 754.9500000000003|            45|\n",
      "|2020-01-01 00:00:00|  25|            324.35|            16|\n",
      "|2020-01-01 00:00:00|  32|              18.0|             1|\n",
      "|2020-01-01 00:00:00|  33|            255.56|             8|\n",
      "|2020-01-01 00:00:00|  34|              19.3|             1|\n",
      "|2020-01-01 00:00:00|  36|            109.17|             3|\n",
      "|2020-01-01 00:00:00|  37|161.60999999999999|             7|\n",
      "|2020-01-01 00:00:00|  40| 89.97000000000001|             5|\n",
      "|2020-01-01 00:00:00|  41|           1256.53|            80|\n",
      "|2020-01-01 00:00:00|  42| 635.3500000000001|            46|\n",
      "+-------------------+----+------------------+--------------+\n",
      "only showing top 20 rows\n"
     ]
    },
    {
     "name": "stderr",
     "output_type": "stream",
     "text": [
      "                                                                                "
     ]
    }
   ],
   "source": [
    "df_yellow = spark.read \\\n",
    "    .option(\"header\",\"true\") \\\n",
    "    .option(\"recursiveFileLookup\",\"true\") \\\n",
    "    .parquet('data/pq/yellow')\n",
    "\n",
    "df_yellow.createOrReplaceTempView('yellow')\n",
    "\n",
    "df_yellow_revenue = spark.sql(\"\"\"\n",
    "SELECT\n",
    "    date_trunc('hour', tpep_pickup_datetime) as hour,\n",
    "    PULocationId as zone,\n",
    "\n",
    "    SUM(total_amount) AS amount,\n",
    "    COUNT(1) AS number_records\n",
    "FROM\n",
    "    yellow\n",
    "WHERE\n",
    "    tpep_pickup_datetime >= '2020-01-01 00:00:00'\n",
    "GROUP BY\n",
    "    1, 2\n",
    "ORDER BY\n",
    "    1, 2\n",
    "\"\"\")\n",
    "\n",
    "df_yellow_revenue.show()"
   ]
  },
  {
   "cell_type": "code",
   "execution_count": 26,
   "id": "a57f24f1-4c8f-4846-9a0c-0c38b256adc8",
   "metadata": {},
   "outputs": [
    {
     "name": "stderr",
     "output_type": "stream",
     "text": [
      "25/07/05 22:30:04 WARN MemoryManager: Total allocation exceeds 95.00% (1,020,054,720 bytes) of heap memory\n",
      "Scaling row group sizes to 95.00% for 8 writers\n",
      "25/07/05 22:30:04 WARN MemoryManager: Total allocation exceeds 95.00% (1,020,054,720 bytes) of heap memory\n",
      "Scaling row group sizes to 84.44% for 9 writers\n",
      "25/07/05 22:30:04 WARN MemoryManager: Total allocation exceeds 95.00% (1,020,054,720 bytes) of heap memory\n",
      "Scaling row group sizes to 76.00% for 10 writers\n",
      "25/07/05 22:30:04 WARN MemoryManager: Total allocation exceeds 95.00% (1,020,054,720 bytes) of heap memory\n",
      "Scaling row group sizes to 84.44% for 9 writers\n",
      "25/07/05 22:30:04 WARN MemoryManager: Total allocation exceeds 95.00% (1,020,054,720 bytes) of heap memory\n",
      "Scaling row group sizes to 95.00% for 8 writers\n"
     ]
    }
   ],
   "source": [
    "df_yellow_revenue.repartition(10) \\\n",
    "    .write \\\n",
    "    .parquet('data/report/hourly_revenue/yellow', mode='overwrite')"
   ]
  },
  {
   "cell_type": "code",
   "execution_count": 27,
   "id": "cfec7a08-1d75-4b94-91eb-060695ad8b2d",
   "metadata": {},
   "outputs": [
    {
     "name": "stdout",
     "output_type": "stream",
     "text": [
      "total 26504\n",
      "-rw-r--r--@  1 romadv-mac  staff     0B  5 Jul 22:30 _SUCCESS\n",
      "drwxr-xr-x@ 24 romadv-mac  staff   768B  5 Jul 22:30 \u001b[34m.\u001b[m\u001b[m\n",
      "-rw-r--r--@  1 romadv-mac  staff     8B  5 Jul 22:30 ._SUCCESS.crc\n",
      "drwxr-xr-x@  4 romadv-mac  staff   128B  5 Jul 22:30 \u001b[34m..\u001b[m\u001b[m\n",
      "-rw-r--r--@  1 romadv-mac  staff    10K  5 Jul 22:30 .part-00000-2993c9a0-1474-49a8-8cc3-d5383f027653-c000.snappy.parquet.crc\n",
      "-rw-r--r--@  1 romadv-mac  staff    10K  5 Jul 22:30 .part-00001-2993c9a0-1474-49a8-8cc3-d5383f027653-c000.snappy.parquet.crc\n",
      "-rw-r--r--@  1 romadv-mac  staff    10K  5 Jul 22:30 .part-00002-2993c9a0-1474-49a8-8cc3-d5383f027653-c000.snappy.parquet.crc\n",
      "-rw-r--r--@  1 romadv-mac  staff    10K  5 Jul 22:30 .part-00003-2993c9a0-1474-49a8-8cc3-d5383f027653-c000.snappy.parquet.crc\n",
      "-rw-r--r--@  1 romadv-mac  staff    10K  5 Jul 22:30 .part-00004-2993c9a0-1474-49a8-8cc3-d5383f027653-c000.snappy.parquet.crc\n",
      "-rw-r--r--@  1 romadv-mac  staff    10K  5 Jul 22:30 .part-00005-2993c9a0-1474-49a8-8cc3-d5383f027653-c000.snappy.parquet.crc\n",
      "-rw-r--r--@  1 romadv-mac  staff    10K  5 Jul 22:30 .part-00006-2993c9a0-1474-49a8-8cc3-d5383f027653-c000.snappy.parquet.crc\n",
      "-rw-r--r--@  1 romadv-mac  staff    10K  5 Jul 22:30 .part-00007-2993c9a0-1474-49a8-8cc3-d5383f027653-c000.snappy.parquet.crc\n",
      "-rw-r--r--@  1 romadv-mac  staff    10K  5 Jul 22:30 .part-00008-2993c9a0-1474-49a8-8cc3-d5383f027653-c000.snappy.parquet.crc\n",
      "-rw-r--r--@  1 romadv-mac  staff    10K  5 Jul 22:30 .part-00009-2993c9a0-1474-49a8-8cc3-d5383f027653-c000.snappy.parquet.crc\n",
      "-rw-r--r--@  1 romadv-mac  staff   1.3M  5 Jul 22:30 part-00000-2993c9a0-1474-49a8-8cc3-d5383f027653-c000.snappy.parquet\n",
      "-rw-r--r--@  1 romadv-mac  staff   1.3M  5 Jul 22:30 part-00001-2993c9a0-1474-49a8-8cc3-d5383f027653-c000.snappy.parquet\n",
      "-rw-r--r--@  1 romadv-mac  staff   1.3M  5 Jul 22:30 part-00002-2993c9a0-1474-49a8-8cc3-d5383f027653-c000.snappy.parquet\n",
      "-rw-r--r--@  1 romadv-mac  staff   1.3M  5 Jul 22:30 part-00003-2993c9a0-1474-49a8-8cc3-d5383f027653-c000.snappy.parquet\n",
      "-rw-r--r--@  1 romadv-mac  staff   1.3M  5 Jul 22:30 part-00004-2993c9a0-1474-49a8-8cc3-d5383f027653-c000.snappy.parquet\n",
      "-rw-r--r--@  1 romadv-mac  staff   1.3M  5 Jul 22:30 part-00005-2993c9a0-1474-49a8-8cc3-d5383f027653-c000.snappy.parquet\n",
      "-rw-r--r--@  1 romadv-mac  staff   1.3M  5 Jul 22:30 part-00006-2993c9a0-1474-49a8-8cc3-d5383f027653-c000.snappy.parquet\n",
      "-rw-r--r--@  1 romadv-mac  staff   1.3M  5 Jul 22:30 part-00007-2993c9a0-1474-49a8-8cc3-d5383f027653-c000.snappy.parquet\n",
      "-rw-r--r--@  1 romadv-mac  staff   1.3M  5 Jul 22:30 part-00008-2993c9a0-1474-49a8-8cc3-d5383f027653-c000.snappy.parquet\n",
      "-rw-r--r--@  1 romadv-mac  staff   1.3M  5 Jul 22:30 part-00009-2993c9a0-1474-49a8-8cc3-d5383f027653-c000.snappy.parquet\n"
     ]
    }
   ],
   "source": [
    "!ls -lahR data/report/hourly_revenue/yellow"
   ]
  },
  {
   "cell_type": "code",
   "execution_count": 29,
   "id": "24ea32c6-6c9c-4b73-a3a9-471964e2fb36",
   "metadata": {},
   "outputs": [],
   "source": [
    "# join green and yellow tables\n",
    "df_green_revenue_tmp = df_green_revenue \\\n",
    "    .withColumnRenamed('amount', 'green_amount') \\\n",
    "    .withColumnRenamed('number_records', 'green_number_records')\n",
    "\n",
    "df_yellow_revenue_tmp = df_yellow_revenue \\\n",
    "    .withColumnRenamed('amount', 'yellow_amount') \\\n",
    "    .withColumnRenamed('number_records', 'yellow_number_records')\n",
    "\n",
    "df_join = df_green_revenue_tmp.join(df_yellow_revenue_tmp, on=['hour', 'zone'], how='outer')"
   ]
  },
  {
   "cell_type": "code",
   "execution_count": 30,
   "id": "161164cd-17d1-411b-bba9-80d9c0a06a96",
   "metadata": {},
   "outputs": [
    {
     "name": "stderr",
     "output_type": "stream",
     "text": [
      "[Stage 48:================================================>       (13 + 2) / 15]"
     ]
    },
    {
     "name": "stdout",
     "output_type": "stream",
     "text": [
      "+-------------------+----+------------+--------------------+------------------+---------------------+\n",
      "|               hour|zone|green_amount|green_number_records|     yellow_amount|yellow_number_records|\n",
      "+-------------------+----+------------+--------------------+------------------+---------------------+\n",
      "|2020-01-01 00:00:00|  17|      195.03|                   9|220.20999999999998|                    8|\n",
      "|2020-01-01 00:00:00|  18|         7.8|                   1|               5.8|                    1|\n",
      "|2020-01-01 00:00:00|  36|      295.34|                  11|            109.17|                    3|\n",
      "|2020-01-01 00:00:00|  48|        NULL|                NULL|10773.360000000026|                  455|\n",
      "|2020-01-01 00:00:00|  51|        17.8|                   2|              31.0|                    1|\n",
      "|2020-01-01 00:00:00| 130|      133.35|                   7|              NULL|                 NULL|\n",
      "|2020-01-01 00:00:00| 143|       55.95|                   2|2142.0599999999986|                  128|\n",
      "|2020-01-01 00:00:00| 151|        NULL|                NULL| 2536.959999999998|                  148|\n",
      "|2020-01-01 00:00:00| 177|      274.95|                  10|             19.78|                    1|\n",
      "|2020-01-01 00:00:00| 213|       46.12|                   1|              71.3|                    2|\n",
      "+-------------------+----+------------+--------------------+------------------+---------------------+\n",
      "only showing top 10 rows\n"
     ]
    },
    {
     "name": "stderr",
     "output_type": "stream",
     "text": [
      "                                                                                "
     ]
    }
   ],
   "source": [
    "df_join.show(10)"
   ]
  },
  {
   "cell_type": "code",
   "execution_count": 31,
   "id": "a74f25b3-ca43-437f-8906-9d7d6a5c0c69",
   "metadata": {},
   "outputs": [
    {
     "name": "stderr",
     "output_type": "stream",
     "text": [
      "25/07/05 22:49:05 WARN MemoryManager: Total allocation exceeds 95.00% (1,020,054,720 bytes) of heap memory\n",
      "Scaling row group sizes to 95.00% for 8 writers\n",
      "25/07/05 22:49:05 WARN MemoryManager: Total allocation exceeds 95.00% (1,020,054,720 bytes) of heap memory\n",
      "Scaling row group sizes to 84.44% for 9 writers\n",
      "25/07/05 22:49:05 WARN MemoryManager: Total allocation exceeds 95.00% (1,020,054,720 bytes) of heap memory\n",
      "Scaling row group sizes to 76.00% for 10 writers\n",
      "25/07/05 22:49:05 WARN MemoryManager: Total allocation exceeds 95.00% (1,020,054,720 bytes) of heap memory\n",
      "Scaling row group sizes to 69.09% for 11 writers\n",
      "25/07/05 22:49:05 WARN MemoryManager: Total allocation exceeds 95.00% (1,020,054,720 bytes) of heap memory\n",
      "Scaling row group sizes to 63.33% for 12 writers\n",
      "25/07/05 22:49:05 WARN MemoryManager: Total allocation exceeds 95.00% (1,020,054,720 bytes) of heap memory\n",
      "Scaling row group sizes to 58.46% for 13 writers\n",
      "25/07/05 22:49:05 WARN MemoryManager: Total allocation exceeds 95.00% (1,020,054,720 bytes) of heap memory\n",
      "Scaling row group sizes to 54.29% for 14 writers\n",
      "25/07/05 22:49:05 WARN MemoryManager: Total allocation exceeds 95.00% (1,020,054,720 bytes) of heap memory\n",
      "Scaling row group sizes to 58.46% for 13 writers\n",
      "25/07/05 22:49:05 WARN MemoryManager: Total allocation exceeds 95.00% (1,020,054,720 bytes) of heap memory\n",
      "Scaling row group sizes to 63.33% for 12 writers\n",
      "25/07/05 22:49:05 WARN MemoryManager: Total allocation exceeds 95.00% (1,020,054,720 bytes) of heap memory\n",
      "Scaling row group sizes to 69.09% for 11 writers\n",
      "25/07/05 22:49:05 WARN MemoryManager: Total allocation exceeds 95.00% (1,020,054,720 bytes) of heap memory\n",
      "Scaling row group sizes to 76.00% for 10 writers\n",
      "25/07/05 22:49:05 WARN MemoryManager: Total allocation exceeds 95.00% (1,020,054,720 bytes) of heap memory\n",
      "Scaling row group sizes to 84.44% for 9 writers\n",
      "25/07/05 22:49:05 WARN MemoryManager: Total allocation exceeds 95.00% (1,020,054,720 bytes) of heap memory\n",
      "Scaling row group sizes to 95.00% for 8 writers\n",
      "                                                                                "
     ]
    }
   ],
   "source": [
    "df_join.write \\\n",
    "    .parquet('data/report/hourly_revenue/total')"
   ]
  },
  {
   "cell_type": "code",
   "execution_count": 38,
   "id": "c797fbda-aabd-4395-9547-e8aa19ddbc94",
   "metadata": {},
   "outputs": [],
   "source": [
    "# join with zones dimension table\n",
    "df_zones = spark.read \\\n",
    "    .option(\"header\", \"true\") \\\n",
    "    .csv('data/lookup/taxi_zone_lookup.csv')"
   ]
  },
  {
   "cell_type": "code",
   "execution_count": 39,
   "id": "a6618219-826e-4138-8fb6-f04e952fe272",
   "metadata": {},
   "outputs": [
    {
     "name": "stdout",
     "output_type": "stream",
     "text": [
      "+----------+-------------+--------------------+------------+\n",
      "|locationid|      borough|                zone|service_zone|\n",
      "+----------+-------------+--------------------+------------+\n",
      "|         1|          EWR|      Newark Airport|         EWR|\n",
      "|         2|       Queens|         Jamaica Bay|   Boro Zone|\n",
      "|         3|        Bronx|Allerton/Pelham G...|   Boro Zone|\n",
      "|         4|    Manhattan|       Alphabet City| Yellow Zone|\n",
      "|         5|Staten Island|       Arden Heights|   Boro Zone|\n",
      "|         6|Staten Island|Arrochar/Fort Wad...|   Boro Zone|\n",
      "|         7|       Queens|             Astoria|   Boro Zone|\n",
      "|         8|       Queens|        Astoria Park|   Boro Zone|\n",
      "|         9|       Queens|          Auburndale|   Boro Zone|\n",
      "|        10|       Queens|        Baisley Park|   Boro Zone|\n",
      "|        11|     Brooklyn|          Bath Beach|   Boro Zone|\n",
      "|        12|    Manhattan|        Battery Park| Yellow Zone|\n",
      "|        13|    Manhattan|   Battery Park City| Yellow Zone|\n",
      "|        14|     Brooklyn|           Bay Ridge|   Boro Zone|\n",
      "|        15|       Queens|Bay Terrace/Fort ...|   Boro Zone|\n",
      "|        16|       Queens|             Bayside|   Boro Zone|\n",
      "|        17|     Brooklyn|             Bedford|   Boro Zone|\n",
      "|        18|        Bronx|        Bedford Park|   Boro Zone|\n",
      "|        19|       Queens|           Bellerose|   Boro Zone|\n",
      "|        20|        Bronx|             Belmont|   Boro Zone|\n",
      "+----------+-------------+--------------------+------------+\n",
      "only showing top 20 rows\n"
     ]
    }
   ],
   "source": [
    "df_zones.show()"
   ]
  },
  {
   "cell_type": "code",
   "execution_count": 44,
   "id": "23566960-0bec-4ca5-a7cd-53fdc0c930f5",
   "metadata": {},
   "outputs": [],
   "source": [
    "df_result = df_join.join(df_zones, \n",
    "             df_join.zone==df_zones.locationid)\n",
    "df_result = df_result.drop('locationid')"
   ]
  },
  {
   "cell_type": "code",
   "execution_count": 46,
   "id": "91a24518-3505-4957-8e3d-c5b53b34c318",
   "metadata": {},
   "outputs": [
    {
     "name": "stderr",
     "output_type": "stream",
     "text": [
      "[Stage 73:==================>                                     (5 + 10) / 15]"
     ]
    },
    {
     "name": "stdout",
     "output_type": "stream",
     "text": [
      "+-------------------+----+------------+--------------------+------------------+---------------------+---------+--------------+------------+\n",
      "|               hour|zone|green_amount|green_number_records|     yellow_amount|yellow_number_records|  borough|          zone|service_zone|\n",
      "+-------------------+----+------------+--------------------+------------------+---------------------+---------+--------------+------------+\n",
      "|2020-01-01 00:00:00|  17|      195.03|                   9|220.20999999999998|                    8| Brooklyn|       Bedford|   Boro Zone|\n",
      "|2020-01-01 00:00:00|  18|         7.8|                   1|               5.8|                    1|    Bronx|  Bedford Park|   Boro Zone|\n",
      "|2020-01-01 00:00:00|  36|      295.34|                  11|            109.17|                    3| Brooklyn|Bushwick North|   Boro Zone|\n",
      "|2020-01-01 00:00:00|  48|        NULL|                NULL|10773.360000000026|                  455|Manhattan|  Clinton East| Yellow Zone|\n",
      "|2020-01-01 00:00:00|  51|        17.8|                   2|              31.0|                    1|    Bronx|    Co-Op City|   Boro Zone|\n",
      "+-------------------+----+------------+--------------------+------------------+---------------------+---------+--------------+------------+\n",
      "only showing top 5 rows\n"
     ]
    },
    {
     "name": "stderr",
     "output_type": "stream",
     "text": [
      "                                                                                "
     ]
    }
   ],
   "source": [
    "df_result.show(5)"
   ]
  },
  {
   "cell_type": "code",
   "execution_count": 47,
   "id": "504cc63a-51e5-4484-82ba-80090398bffe",
   "metadata": {},
   "outputs": [
    {
     "data": {
      "text/plain": [
       "DataFrame[hour: timestamp, zone: int, green_amount: double, green_number_records: bigint, yellow_amount: double, yellow_number_records: bigint, borough: string, zone: string, service_zone: string]"
      ]
     },
     "execution_count": 47,
     "metadata": {},
     "output_type": "execute_result"
    }
   ],
   "source": [
    "df_result"
   ]
  },
  {
   "cell_type": "code",
   "execution_count": 48,
   "id": "a5f1f125-0825-487f-b069-2badb1619eef",
   "metadata": {},
   "outputs": [],
   "source": [
    "spark.stop()"
   ]
  },
  {
   "cell_type": "code",
   "execution_count": null,
   "id": "0aa8af73-bdf6-4563-a998-6ac8d8bbd07b",
   "metadata": {},
   "outputs": [],
   "source": []
  }
 ],
 "metadata": {
  "kernelspec": {
   "display_name": "Python 3 (ipykernel)",
   "language": "python",
   "name": "python3"
  },
  "language_info": {
   "codemirror_mode": {
    "name": "ipython",
    "version": 3
   },
   "file_extension": ".py",
   "mimetype": "text/x-python",
   "name": "python",
   "nbconvert_exporter": "python",
   "pygments_lexer": "ipython3",
   "version": "3.13.5"
  }
 },
 "nbformat": 4,
 "nbformat_minor": 5
}

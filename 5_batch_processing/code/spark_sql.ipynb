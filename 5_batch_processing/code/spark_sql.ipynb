{
 "cells": [
  {
   "cell_type": "code",
   "execution_count": 1,
   "id": "afd705f0-0140-4f06-864d-52a0cf7a2c3e",
   "metadata": {},
   "outputs": [
    {
     "name": "stderr",
     "output_type": "stream",
     "text": [
      "WARNING: Using incubator modules: jdk.incubator.vector\n",
      "Using Spark's default log4j profile: org/apache/spark/log4j2-defaults.properties\n",
      "Setting default log level to \"WARN\".\n",
      "To adjust logging level use sc.setLogLevel(newLevel). For SparkR, use setLogLevel(newLevel).\n",
      "25/07/05 21:37:02 WARN NativeCodeLoader: Unable to load native-hadoop library for your platform... using builtin-java classes where applicable\n"
     ]
    }
   ],
   "source": [
    "import pyspark\n",
    "from pyspark.sql import SparkSession\n",
    "\n",
    "spark = SparkSession.builder \\\n",
    "    .master(\"local[*]\") \\  # create local cluster\n",
    "    .appName('test') \\\n",
    "    .getOrCreate()"
   ]
  },
  {
   "cell_type": "code",
   "execution_count": 2,
   "id": "209b439e-5423-4d32-8527-57ad5cfe1781",
   "metadata": {},
   "outputs": [],
   "source": [
    "df_green = spark.read \\\n",
    "    .option(\"header\",\"true\") \\\n",
    "    .option(\"recursiveFileLookup\",\"true\") \\\n",
    "    .parquet('data/pq/green')"
   ]
  },
  {
   "cell_type": "code",
   "execution_count": 3,
   "id": "eed0d561-166a-4981-94e3-f5add6e4aabd",
   "metadata": {},
   "outputs": [
    {
     "name": "stdout",
     "output_type": "stream",
     "text": [
      "root\n",
      " |-- VendorID: integer (nullable = true)\n",
      " |-- lpep_pickup_datetime: timestamp (nullable = true)\n",
      " |-- lpep_dropoff_datetime: timestamp (nullable = true)\n",
      " |-- store_and_fwd_flag: string (nullable = true)\n",
      " |-- RatecodeID: integer (nullable = true)\n",
      " |-- PULocationID: integer (nullable = true)\n",
      " |-- DOLocationID: integer (nullable = true)\n",
      " |-- passenger_count: integer (nullable = true)\n",
      " |-- trip_distance: double (nullable = true)\n",
      " |-- fare_amount: double (nullable = true)\n",
      " |-- extra: double (nullable = true)\n",
      " |-- mta_tax: double (nullable = true)\n",
      " |-- tip_amount: double (nullable = true)\n",
      " |-- tolls_amount: double (nullable = true)\n",
      " |-- ehail_fee: double (nullable = true)\n",
      " |-- improvement_surcharge: double (nullable = true)\n",
      " |-- total_amount: double (nullable = true)\n",
      " |-- payment_type: integer (nullable = true)\n",
      " |-- trip_type: integer (nullable = true)\n",
      " |-- congestion_surcharge: double (nullable = true)\n",
      "\n"
     ]
    }
   ],
   "source": [
    "df_green.printSchema()"
   ]
  },
  {
   "cell_type": "code",
   "execution_count": 4,
   "id": "83f60026-079c-4e57-bde0-93ef02fbdc78",
   "metadata": {},
   "outputs": [],
   "source": [
    "df_yellow = spark.read \\\n",
    "    .option(\"header\",\"true\") \\\n",
    "    .option(\"recursiveFileLookup\",\"true\") \\\n",
    "    .parquet('data/pq/yellow')"
   ]
  },
  {
   "cell_type": "code",
   "execution_count": 5,
   "id": "563d7b22-c71e-4124-9d27-28f281b305f1",
   "metadata": {},
   "outputs": [
    {
     "name": "stdout",
     "output_type": "stream",
     "text": [
      "root\n",
      " |-- VendorID: integer (nullable = true)\n",
      " |-- tpep_pickup_datetime: timestamp (nullable = true)\n",
      " |-- tpep_dropoff_datetime: timestamp (nullable = true)\n",
      " |-- passenger_count: integer (nullable = true)\n",
      " |-- trip_distance: double (nullable = true)\n",
      " |-- RatecodeID: integer (nullable = true)\n",
      " |-- store_and_fwd_flag: string (nullable = true)\n",
      " |-- PULocationID: integer (nullable = true)\n",
      " |-- DOLocationID: integer (nullable = true)\n",
      " |-- payment_type: integer (nullable = true)\n",
      " |-- fare_amount: double (nullable = true)\n",
      " |-- extra: double (nullable = true)\n",
      " |-- mta_tax: double (nullable = true)\n",
      " |-- tip_amount: double (nullable = true)\n",
      " |-- tolls_amount: double (nullable = true)\n",
      " |-- improvement_surcharge: double (nullable = true)\n",
      " |-- total_amount: double (nullable = true)\n",
      " |-- congestion_surcharge: double (nullable = true)\n",
      "\n"
     ]
    }
   ],
   "source": [
    "df_yellow.printSchema()"
   ]
  },
  {
   "cell_type": "code",
   "execution_count": 6,
   "id": "e02cc1e1-a4e2-423c-b7c2-cb619d9397e3",
   "metadata": {},
   "outputs": [
    {
     "data": {
      "text/plain": [
       "{'DOLocationID',\n",
       " 'PULocationID',\n",
       " 'RatecodeID',\n",
       " 'VendorID',\n",
       " 'congestion_surcharge',\n",
       " 'extra',\n",
       " 'fare_amount',\n",
       " 'improvement_surcharge',\n",
       " 'mta_tax',\n",
       " 'passenger_count',\n",
       " 'payment_type',\n",
       " 'store_and_fwd_flag',\n",
       " 'tip_amount',\n",
       " 'tolls_amount',\n",
       " 'total_amount',\n",
       " 'trip_distance'}"
      ]
     },
     "execution_count": 6,
     "metadata": {},
     "output_type": "execute_result"
    }
   ],
   "source": [
    "# find columns common in both dfs\n",
    "set(df_green.columns) & set(df_yellow.columns)"
   ]
  },
  {
   "cell_type": "code",
   "execution_count": 7,
   "id": "b51ee6c2-51f8-4186-ad9e-2eaea24e74b6",
   "metadata": {},
   "outputs": [],
   "source": [
    "# rename pickup and dropoff datetime columns\n",
    "df_green = df_green \\\n",
    "    .withColumnRenamed('lpep_pickup_datetime', 'pickup_datetime') \\\n",
    "    .withColumnRenamed('lpep_dropoff_datetime', 'dropoff_datetime')"
   ]
  },
  {
   "cell_type": "code",
   "execution_count": 8,
   "id": "08d011fa-fda8-4e98-8677-b02cca2aefd0",
   "metadata": {},
   "outputs": [
    {
     "name": "stdout",
     "output_type": "stream",
     "text": [
      "root\n",
      " |-- VendorID: integer (nullable = true)\n",
      " |-- pickup_datetime: timestamp (nullable = true)\n",
      " |-- dropoff_datetime: timestamp (nullable = true)\n",
      " |-- store_and_fwd_flag: string (nullable = true)\n",
      " |-- RatecodeID: integer (nullable = true)\n",
      " |-- PULocationID: integer (nullable = true)\n",
      " |-- DOLocationID: integer (nullable = true)\n",
      " |-- passenger_count: integer (nullable = true)\n",
      " |-- trip_distance: double (nullable = true)\n",
      " |-- fare_amount: double (nullable = true)\n",
      " |-- extra: double (nullable = true)\n",
      " |-- mta_tax: double (nullable = true)\n",
      " |-- tip_amount: double (nullable = true)\n",
      " |-- tolls_amount: double (nullable = true)\n",
      " |-- ehail_fee: double (nullable = true)\n",
      " |-- improvement_surcharge: double (nullable = true)\n",
      " |-- total_amount: double (nullable = true)\n",
      " |-- payment_type: integer (nullable = true)\n",
      " |-- trip_type: integer (nullable = true)\n",
      " |-- congestion_surcharge: double (nullable = true)\n",
      "\n"
     ]
    }
   ],
   "source": [
    "df_green.printSchema()"
   ]
  },
  {
   "cell_type": "code",
   "execution_count": 9,
   "id": "329030cf-296b-4627-80bf-5a18a666c618",
   "metadata": {},
   "outputs": [
    {
     "name": "stdout",
     "output_type": "stream",
     "text": [
      "root\n",
      " |-- VendorID: integer (nullable = true)\n",
      " |-- pickup_datetime: timestamp (nullable = true)\n",
      " |-- dropoff_datetime: timestamp (nullable = true)\n",
      " |-- passenger_count: integer (nullable = true)\n",
      " |-- trip_distance: double (nullable = true)\n",
      " |-- RatecodeID: integer (nullable = true)\n",
      " |-- store_and_fwd_flag: string (nullable = true)\n",
      " |-- PULocationID: integer (nullable = true)\n",
      " |-- DOLocationID: integer (nullable = true)\n",
      " |-- payment_type: integer (nullable = true)\n",
      " |-- fare_amount: double (nullable = true)\n",
      " |-- extra: double (nullable = true)\n",
      " |-- mta_tax: double (nullable = true)\n",
      " |-- tip_amount: double (nullable = true)\n",
      " |-- tolls_amount: double (nullable = true)\n",
      " |-- improvement_surcharge: double (nullable = true)\n",
      " |-- total_amount: double (nullable = true)\n",
      " |-- congestion_surcharge: double (nullable = true)\n",
      "\n"
     ]
    }
   ],
   "source": [
    "df_yellow = df_yellow \\\n",
    "    .withColumnRenamed('tpep_pickup_datetime', 'pickup_datetime') \\\n",
    "    .withColumnRenamed('tpep_dropoff_datetime', 'dropoff_datetime')\n",
    "\n",
    "df_yellow.printSchema()"
   ]
  },
  {
   "cell_type": "code",
   "execution_count": 10,
   "id": "5f71b830-1f68-46a9-afa1-9cd9500ef6b1",
   "metadata": {},
   "outputs": [],
   "source": [
    "# get the common columns and preserve their ordering in the dfs\n",
    "common_columns = []\n",
    "\n",
    "yellow_columns = set(df_yellow.columns)\n",
    "\n",
    "for col in df_green.columns:\n",
    "    if col in yellow_columns:\n",
    "        common_columns.append(col)"
   ]
  },
  {
   "cell_type": "code",
   "execution_count": 11,
   "id": "e113dbdb-4fd7-4b9d-b213-eef258c58e3f",
   "metadata": {},
   "outputs": [
    {
     "data": {
      "text/plain": [
       "['VendorID',\n",
       " 'pickup_datetime',\n",
       " 'dropoff_datetime',\n",
       " 'store_and_fwd_flag',\n",
       " 'RatecodeID',\n",
       " 'PULocationID',\n",
       " 'DOLocationID',\n",
       " 'passenger_count',\n",
       " 'trip_distance',\n",
       " 'fare_amount',\n",
       " 'extra',\n",
       " 'mta_tax',\n",
       " 'tip_amount',\n",
       " 'tolls_amount',\n",
       " 'improvement_surcharge',\n",
       " 'total_amount',\n",
       " 'payment_type',\n",
       " 'congestion_surcharge']"
      ]
     },
     "execution_count": 11,
     "metadata": {},
     "output_type": "execute_result"
    }
   ],
   "source": [
    "common_columns"
   ]
  },
  {
   "cell_type": "code",
   "execution_count": 12,
   "id": "e5650944-d4c2-44dd-970c-20ef982c275c",
   "metadata": {},
   "outputs": [],
   "source": [
    "from pyspark.sql import functions as F"
   ]
  },
  {
   "cell_type": "code",
   "execution_count": 13,
   "id": "a3663d38-5697-4f35-be6d-9f7c45fce94f",
   "metadata": {},
   "outputs": [],
   "source": [
    "# select the common cols and add columns where row is from\n",
    "df_green_sel = df_green \\\n",
    "    .select(common_columns) \\\n",
    "    .withColumn('service_type', F.lit('green'))\n",
    "\n",
    "df_yellow_sel = df_yellow \\\n",
    "    .select(common_columns) \\\n",
    "    .withColumn('service_type', F.lit('yellow'))"
   ]
  },
  {
   "cell_type": "code",
   "execution_count": 14,
   "id": "6e176282-333b-4a60-8283-591859292f26",
   "metadata": {},
   "outputs": [],
   "source": [
    "# combine both dataframes into one\n",
    "df_trips_data = df_green_sel.unionAll(df_yellow_sel)"
   ]
  },
  {
   "cell_type": "code",
   "execution_count": 15,
   "id": "7e9ccc95-dbf3-43a4-8233-aef653646007",
   "metadata": {},
   "outputs": [
    {
     "name": "stderr",
     "output_type": "stream",
     "text": [
      "[Stage 2:============================>                           (15 + 14) / 29]"
     ]
    },
    {
     "name": "stdout",
     "output_type": "stream",
     "text": [
      "+------------+--------+\n",
      "|service_type|   count|\n",
      "+------------+--------+\n",
      "|       green| 2304517|\n",
      "|      yellow|39649199|\n",
      "+------------+--------+\n",
      "\n"
     ]
    },
    {
     "name": "stderr",
     "output_type": "stream",
     "text": [
      "                                                                                "
     ]
    }
   ],
   "source": [
    "df_trips_data.groupBy('service_type').count().show()"
   ]
  },
  {
   "cell_type": "code",
   "execution_count": 16,
   "id": "574e323d-0f52-4753-9914-d7e4aa0086d1",
   "metadata": {},
   "outputs": [],
   "source": [
    "# spark dataframes aren't automatically recognized by spark sql as tables\n",
    "# need to register them as tables first\n",
    "df_trips_data.createOrReplaceTempView('trips_data')"
   ]
  },
  {
   "cell_type": "code",
   "execution_count": 17,
   "id": "ced0fc08-4b84-49de-9b11-06e3bdfd2f63",
   "metadata": {},
   "outputs": [
    {
     "name": "stdout",
     "output_type": "stream",
     "text": [
      "+------------+--------+\n",
      "|service_type|count(1)|\n",
      "+------------+--------+\n",
      "|       green| 2304517|\n",
      "|      yellow|39649199|\n",
      "+------------+--------+\n",
      "\n"
     ]
    }
   ],
   "source": [
    "spark.sql(\"\"\"\n",
    "SELECT\n",
    "    service_type,\n",
    "    count(1)\n",
    "FROM\n",
    "    trips_data\n",
    "GROUP BY\n",
    "    service_type\n",
    "    \"\"\").show()"
   ]
  },
  {
   "cell_type": "code",
   "execution_count": 18,
   "id": "50f63d84-9333-4248-b4a8-cfcba70ad97b",
   "metadata": {},
   "outputs": [],
   "source": [
    "df_result = spark.sql(\"\"\"\n",
    "SELECT \n",
    "    -- Reveneue grouping \n",
    "    PULocationID AS revenue_zone,\n",
    "    date_trunc('month', pickup_datetime) AS revenue_month, \n",
    "    service_type, \n",
    "\n",
    "    -- Revenue calculation \n",
    "    SUM(fare_amount) AS revenue_monthly_fare,\n",
    "    SUM(extra) AS revenue_monthly_extra,\n",
    "    SUM(mta_tax) AS revenue_monthly_mta_tax,\n",
    "    SUM(tip_amount) AS revenue_monthly_tip_amount,\n",
    "    SUM(tolls_amount) AS revenue_monthly_tolls_amount,\n",
    "    SUM(improvement_surcharge) AS revenue_monthly_improvement_surcharge,\n",
    "    SUM(total_amount) AS revenue_monthly_total_amount,\n",
    "    SUM(congestion_surcharge) AS revenue_monthly_congestion_surcharge,\n",
    "\n",
    "    -- Additional calculations\n",
    "    AVG(passenger_count) AS avg_montly_passenger_count,\n",
    "    AVG(trip_distance) AS avg_montly_trip_distance\n",
    "FROM\n",
    "    trips_data\n",
    "GROUP BY\n",
    "    1, 2, 3\n",
    "\"\"\")"
   ]
  },
  {
   "cell_type": "code",
   "execution_count": 19,
   "id": "c8ab19c9-8af6-4163-ba9b-9f93df454c2a",
   "metadata": {},
   "outputs": [
    {
     "name": "stderr",
     "output_type": "stream",
     "text": [
      "[Stage 8:=======================================================> (28 + 1) / 29]"
     ]
    },
    {
     "name": "stdout",
     "output_type": "stream",
     "text": [
      "+------------+-------------------+------------+--------------------+---------------------+-----------------------+--------------------------+----------------------------+-------------------------------------+----------------------------+------------------------------------+--------------------------+------------------------+\n",
      "|revenue_zone|      revenue_month|service_type|revenue_monthly_fare|revenue_monthly_extra|revenue_monthly_mta_tax|revenue_monthly_tip_amount|revenue_monthly_tolls_amount|revenue_monthly_improvement_surcharge|revenue_monthly_total_amount|revenue_monthly_congestion_surcharge|avg_montly_passenger_count|avg_montly_trip_distance|\n",
      "+------------+-------------------+------------+--------------------+---------------------+-----------------------+--------------------------+----------------------------+-------------------------------------+----------------------------+------------------------------------+--------------------------+------------------------+\n",
      "|          55|2020-01-01 00:00:00|       green|   66796.46999999987|              2658.25|                  589.5|        225.66000000000008|          1844.5099999999875|                    541.5000000000092|           72709.69000000077|                               30.25|        1.5239206534422405|       9.333281553398075|\n",
      "|           3|2020-01-01 00:00:00|       green|  12951.510000000033|                885.5|                   87.0|                     44.18|           702.2400000000004|                   135.29999999999941|          14820.079999999976|                                 5.5|        1.0987654320987654|        6.40849019607843|\n",
      "|          14|2020-01-01 00:00:00|       green|   44186.50999999993|               2549.0|                  345.5|        257.00000000000006|          1285.8899999999962|                    412.2000000000099|                     49090.7|                               74.25|        1.0737704918032787|        6.87679697351829|\n",
      "|         190|2020-01-01 00:00:00|       green|  3786.0199999999995|                175.0|                   76.5|        242.16000000000003|                       24.48|                    62.69999999999976|           4419.360000000004|                               35.75|        1.4244604316546763|       3.550691244239631|\n",
      "|         127|2020-01-01 00:00:00|       green|  22044.200000000033|               878.75|                  441.0|         994.0299999999999|          481.67000000000024|                   329.40000000000674|          25470.699999999713|                               305.0|        1.1855309218203034|       4.772682717110913|\n",
      "|          29|2020-01-01 00:00:00|       green|   25023.05000000002|               1154.5|                  230.0|        116.18999999999998|           802.9200000000005|                    225.0000000000028|           27554.40999999989|                                2.75|        1.1295681063122924|        7.83871275327771|\n",
      "|         221|2020-01-01 00:00:00|       green|               382.5|                  1.0|                    3.0|                       0.0|           85.67999999999999|                                  2.1|                      474.28|                                 0.0|        1.2857142857142858|      12.874285714285715|\n",
      "|         158|2020-01-01 00:00:00|       green|   360.8500000000001|                13.75|                    0.0|                       0.0|                        30.6|                   2.6999999999999997|                       407.9|                                NULL|                      NULL|                   10.52|\n",
      "|         129|2020-01-01 00:00:00|       green|  120756.02999999937|              5641.25|                 4298.0|         5140.960000000003|           1726.009999999989|                   2874.9000000002825|          141258.90000000803|                               772.5|        1.5201231330521034|      2.6745766170169323|\n",
      "|          61|2020-01-01 00:00:00|       green|   95118.76999999829|               6978.5|                 1236.5|         1176.729999999999|          1145.3799999999983|                   1260.8999999999003|          107306.63000000104|                               165.0|        1.2742130750605327|      3.9018475317642127|\n",
      "|          56|2020-01-01 00:00:00|       green|  23927.470000000038|               1648.5|                  265.0|        142.15999999999997|           659.4200000000003|                    333.3000000000069|          26997.049999999716|                                22.0|        1.3625498007968126|       4.243021523178806|\n",
      "|          43|2020-01-01 00:00:00|       green|   57927.88999999996|              3114.75|                 2532.0|         9246.320000000038|           698.0600000000002|                    1553.399999999856|           84271.52000000405|                             10059.5|        1.3527444422585087|        2.40105918406435|\n",
      "|         253|2020-01-01 00:00:00|       green|              582.21|                 20.0|                    7.5|                     11.26|                       18.36|                    4.799999999999999|                      644.13|                                 0.0|        1.3333333333333333|       8.487894736842103|\n",
      "|         237|2020-01-01 00:00:00|       green|  3895.6100000000006|                248.5|                    7.5|                       0.0|          176.44000000000008|                   31.500000000000053|           4359.549999999999|                                 0.0|                       1.0|      10.208504672897197|\n",
      "|           7|2020-01-01 00:00:00|       green|  169074.51999999958|              7929.25|                 7443.5|        12952.749999999965|          1746.7599999999884|                    4730.700000001408|          207287.27999996906|                             3448.25|        1.4415973377703828|       2.292246326977181|\n",
      "|         153|2020-01-01 00:00:00|       green|   4208.179999999999|               217.25|                   63.0|                     52.21|          112.96000000000002|                    54.29999999999984|           4723.850000000008|                                11.0|        1.3364485981308412|       4.772254901960782|\n",
      "|          30|2020-01-01 00:00:00|       green|              150.32|                 8.25|                    0.5|                       0.0|          12.989999999999998|                                  1.2|                      173.26|                                 0.0|                       1.0|                   7.665|\n",
      "|         164|2020-01-01 00:00:00|       green|             1139.53|                68.75|                    2.5|                       0.0|          116.28000000000003|                   10.800000000000004|          1337.8600000000004|                                 0.0|                       1.0|       8.912222222222223|\n",
      "|         108|2020-01-01 00:00:00|       green|  17651.770000000008|               1152.0|                  158.5|        23.009999999999998|           288.7800000000001|                   179.10000000000107|          19453.159999999963|                                2.75|        1.0443037974683544|       6.634133522727268|\n",
      "|         137|2020-01-01 00:00:00|       green|  11150.590000000002|               783.75|                   52.5|                       0.0|           971.7700000000004|                   113.09999999999928|          13071.710000000005|                                 0.0|                       1.0|        8.73506631299735|\n",
      "+------------+-------------------+------------+--------------------+---------------------+-----------------------+--------------------------+----------------------------+-------------------------------------+----------------------------+------------------------------------+--------------------------+------------------------+\n",
      "only showing top 20 rows\n"
     ]
    },
    {
     "name": "stderr",
     "output_type": "stream",
     "text": [
      "                                                                                "
     ]
    }
   ],
   "source": [
    "df_result.show()"
   ]
  },
  {
   "cell_type": "code",
   "execution_count": 20,
   "id": "153909c0-9477-4bf9-a47e-2c8a33f9cc01",
   "metadata": {},
   "outputs": [
    {
     "name": "stderr",
     "output_type": "stream",
     "text": [
      "                                                                                "
     ]
    }
   ],
   "source": [
    "df_result.coalesce(1) \\\n",
    "    .write \\\n",
    "    .parquet('data/report/revenue/')"
   ]
  },
  {
   "cell_type": "code",
   "execution_count": 21,
   "id": "51d9bc7b-6f5a-4d07-97ec-f1f4a75a9914",
   "metadata": {},
   "outputs": [
    {
     "name": "stdout",
     "output_type": "stream",
     "text": [
      "\u001b[01;34mdata/report\u001b[0m\n",
      "└── \u001b[01;34mrevenue\u001b[0m\n",
      "    ├── \u001b[00m_SUCCESS\u001b[0m\n",
      "    └── \u001b[00mpart-00000-8fd789c0-37e0-435b-ae09-88d5d12a7602-c000.snappy.parquet\u001b[0m\n",
      "\n",
      "2 directories, 2 files\n"
     ]
    }
   ],
   "source": [
    "!tree data/report"
   ]
  },
  {
   "cell_type": "code",
   "execution_count": 24,
   "id": "c235ffc7-f015-4fcd-9be8-cf3e8b7c0d29",
   "metadata": {},
   "outputs": [
    {
     "name": "stdout",
     "output_type": "stream",
     "text": [
      "total 1056\n",
      "-rw-r--r--@ 1 romadv-mac  staff     0B  5 Jul 21:42 _SUCCESS\n",
      "drwxr-xr-x@ 6 romadv-mac  staff   192B  5 Jul 21:42 \u001b[34m.\u001b[m\u001b[m\n",
      "-rw-r--r--@ 1 romadv-mac  staff     8B  5 Jul 21:42 ._SUCCESS.crc\n",
      "drwxr-xr-x@ 3 romadv-mac  staff    96B  5 Jul 21:42 \u001b[34m..\u001b[m\u001b[m\n",
      "-rw-r--r--@ 1 romadv-mac  staff   4.0K  5 Jul 21:42 .part-00000-8fd789c0-37e0-435b-ae09-88d5d12a7602-c000.snappy.parquet.crc\n",
      "-rw-r--r--@ 1 romadv-mac  staff   515K  5 Jul 21:42 part-00000-8fd789c0-37e0-435b-ae09-88d5d12a7602-c000.snappy.parquet\n"
     ]
    }
   ],
   "source": [
    "!ls -lah data/report/revenue"
   ]
  },
  {
   "cell_type": "code",
   "execution_count": 25,
   "id": "3f6dc8cd-e6e8-4635-af62-d0534c2d7179",
   "metadata": {},
   "outputs": [],
   "source": [
    "spark.stop()"
   ]
  },
  {
   "cell_type": "code",
   "execution_count": null,
   "id": "06ee94b0-5dd8-4994-96a2-1310bdcb8444",
   "metadata": {},
   "outputs": [],
   "source": []
  }
 ],
 "metadata": {
  "kernelspec": {
   "display_name": "Python 3 (ipykernel)",
   "language": "python",
   "name": "python3"
  },
  "language_info": {
   "codemirror_mode": {
    "name": "ipython",
    "version": 3
   },
   "file_extension": ".py",
   "mimetype": "text/x-python",
   "name": "python",
   "nbconvert_exporter": "python",
   "pygments_lexer": "ipython3",
   "version": "3.13.5"
  }
 },
 "nbformat": 4,
 "nbformat_minor": 5
}
